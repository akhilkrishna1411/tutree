{
 "cells": [
  {
   "cell_type": "markdown",
   "metadata": {},
   "source": [
    "Identifying duplicates and removing them\n"
   ]
  },
  {
   "cell_type": "markdown",
   "metadata": {},
   "source": [
    "* we need removing duplicates to maintain data accuracy & to avoid misleading statistics\n",
    "*for suppose we are having 3 differnet credit cards.when we enter the cvv of particular its gonna accept but what if we do the  same for all the 3 credit cards.at this instance we need to remove that duplicated value."
   ]
  },
  {
   "cell_type": "code",
   "execution_count": null,
   "metadata": {},
   "outputs": [],
   "source": [
    "#let start by applying a dataframe\n",
    "df=DataFrame({'column1':[1,1,2,2,3,3,3],'columns2':['a','a','b','b','c','c','c'],'column3':['A','A','B','B','C','C','C']})"
   ]
  },
  {
   "cell_type": "markdown",
   "metadata": {},
   "source": [
    "df.duplicated()\n",
    "this gives the total n duplicate values in the entire dataset\n",
    "however we cant check each and every datapoint so \n",
    "df.suplicated().sum() gives a value of duplicated items"
   ]
  },
  {
   "cell_type": "code",
   "execution_count": 6,
   "metadata": {},
   "outputs": [],
   "source": [
    "#importing the dataset\n",
    "import pandas as pd\n",
    "df=pd.read_csv(\"Social_Network_Ads.csv\")"
   ]
  },
  {
   "cell_type": "code",
   "execution_count": 19,
   "metadata": {},
   "outputs": [
    {
     "data": {
      "text/html": [
       "<div>\n",
       "<style scoped>\n",
       "    .dataframe tbody tr th:only-of-type {\n",
       "        vertical-align: middle;\n",
       "    }\n",
       "\n",
       "    .dataframe tbody tr th {\n",
       "        vertical-align: top;\n",
       "    }\n",
       "\n",
       "    .dataframe thead th {\n",
       "        text-align: right;\n",
       "    }\n",
       "</style>\n",
       "<table border=\"1\" class=\"dataframe\">\n",
       "  <thead>\n",
       "    <tr style=\"text-align: right;\">\n",
       "      <th></th>\n",
       "      <th>Age</th>\n",
       "      <th>EstimatedSalary</th>\n",
       "      <th>Purchased</th>\n",
       "    </tr>\n",
       "  </thead>\n",
       "  <tbody>\n",
       "    <tr>\n",
       "      <th>0</th>\n",
       "      <td>19</td>\n",
       "      <td>19000</td>\n",
       "      <td>0</td>\n",
       "    </tr>\n",
       "    <tr>\n",
       "      <th>1</th>\n",
       "      <td>35</td>\n",
       "      <td>20000</td>\n",
       "      <td>0</td>\n",
       "    </tr>\n",
       "    <tr>\n",
       "      <th>2</th>\n",
       "      <td>26</td>\n",
       "      <td>43000</td>\n",
       "      <td>0</td>\n",
       "    </tr>\n",
       "    <tr>\n",
       "      <th>3</th>\n",
       "      <td>27</td>\n",
       "      <td>57000</td>\n",
       "      <td>0</td>\n",
       "    </tr>\n",
       "    <tr>\n",
       "      <th>4</th>\n",
       "      <td>19</td>\n",
       "      <td>76000</td>\n",
       "      <td>0</td>\n",
       "    </tr>\n",
       "  </tbody>\n",
       "</table>\n",
       "</div>"
      ],
      "text/plain": [
       "   Age  EstimatedSalary  Purchased\n",
       "0   19            19000          0\n",
       "1   35            20000          0\n",
       "2   26            43000          0\n",
       "3   27            57000          0\n",
       "4   19            76000          0"
      ]
     },
     "execution_count": 19,
     "metadata": {},
     "output_type": "execute_result"
    }
   ],
   "source": [
    "df.head()"
   ]
  },
  {
   "cell_type": "markdown",
   "metadata": {},
   "source": [
    "lets try out using a dataset"
   ]
  },
  {
   "cell_type": "code",
   "execution_count": 7,
   "metadata": {},
   "outputs": [
    {
     "data": {
      "text/plain": [
       "0      False\n",
       "1      False\n",
       "2      False\n",
       "3      False\n",
       "4      False\n",
       "       ...  \n",
       "395    False\n",
       "396    False\n",
       "397    False\n",
       "398    False\n",
       "399    False\n",
       "Length: 400, dtype: bool"
      ]
     },
     "execution_count": 7,
     "metadata": {},
     "output_type": "execute_result"
    }
   ],
   "source": [
    "df.duplicated()"
   ]
  },
  {
   "cell_type": "code",
   "execution_count": 8,
   "metadata": {},
   "outputs": [
    {
     "data": {
      "text/plain": [
       "33"
      ]
     },
     "execution_count": 8,
     "metadata": {},
     "output_type": "execute_result"
    }
   ],
   "source": [
    "df.duplicated().sum()"
   ]
  },
  {
   "cell_type": "markdown",
   "metadata": {},
   "source": [
    "here we are having a sum of 33 duplicated values"
   ]
  },
  {
   "cell_type": "code",
   "execution_count": 15,
   "metadata": {},
   "outputs": [],
   "source": [
    "df=df.drop_duplicates()"
   ]
  },
  {
   "cell_type": "code",
   "execution_count": 16,
   "metadata": {},
   "outputs": [
    {
     "data": {
      "text/plain": [
       "0"
      ]
     },
     "execution_count": 16,
     "metadata": {},
     "output_type": "execute_result"
    }
   ],
   "source": [
    "df.duplicated().sum()"
   ]
  },
  {
   "cell_type": "markdown",
   "metadata": {},
   "source": [
    "here we can see we have removed the duplicated values and updates the same in the dataset"
   ]
  },
  {
   "cell_type": "code",
   "execution_count": 17,
   "metadata": {},
   "outputs": [],
   "source": [
    "pd.Series.duplicated?"
   ]
  },
  {
   "cell_type": "markdown",
   "metadata": {},
   "source": [
    "to check the significance of true and false lets dive into this"
   ]
  },
  {
   "cell_type": "markdown",
   "metadata": {},
   "source": [
    "#pd.Series.duplicated(self, keep='first') -> 'Series'\n",
    "Docstring:\n",
    "Indicate duplicate Series values.\n",
    "\n",
    "Duplicated values are indicated as ``True`` values in the resulting\n",
    "Series. Either all duplicates, all except the first or all except the\n",
    "last occurrence of duplicates can be indicated.\n",
    "\n",
    "Parameters\n",
    "----------\n",
    "keep : {'first', 'last', False}, default 'first'\n",
    "    Method to handle dropping duplicates:\n",
    "\n",
    "    - 'first' : Marks duplicates as ``True`` except for the first\n",
    "      occurrence.\n",
    "    - 'last' : Mark duplicates as ``True`` except for the last\n",
    "      occurrence.\n",
    "    - ``False`` : Mark all duplicates as ``True``.\n",
    "\n",
    "Returns\n",
    "-------\n",
    "Series\n",
    "    Series indicating whether each value has occurred in the\n",
    "    preceding values.\n",
    "\n",
    "See Also\n",
    "--------\n",
    "Index.duplicated : Equivalent method on pandas.Index.\n",
    "DataFrame.duplicated : Equivalent method on pandas.DataFrame.\n",
    "Series.drop_duplicates : Remove duplicate values from Series.\n",
    "\n",
    "Examples\n",
    "--------\n",
    "By default, for each set of duplicated values, the first occurrence is\n",
    "set on False and all others on True:\n",
    "\n",
    ">>> animals = pd.Series(['lama', 'cow', 'lama', 'beetle', 'lama'])\n",
    ">>> animals.duplicated()\n",
    "0    False\n",
    "1    False\n",
    "2     True\n",
    "3    False\n",
    "4     True\n",
    "dtype: bool\n",
    "\n",
    "which is equivalent to\n",
    "\n",
    ">>> animals.duplicated(keep='first')\n",
    "0    False\n",
    "1    False\n",
    "2     True\n",
    "3    False\n",
    "4     True\n",
    "dtype: bool\n",
    "\n",
    "By using 'last', the last occurrence of each set of duplicated values\n",
    "is set on False and all others on True:\n",
    "\n",
    ">>> animals.duplicated(keep='last')\n",
    "0     True\n",
    "1    False\n",
    "2     True\n",
    "3    False\n",
    "4    False\n",
    "dtype: bool\n",
    "\n",
    "By setting keep on ``False``, all duplicates are True:\n",
    "\n",
    ">>> animals.duplicated(keep=False)\n",
    "0     True\n",
    "1    False\n",
    "2     True\n",
    "3    False\n",
    "4     True\n",
    "dtype: bool"
   ]
  },
  {
   "cell_type": "code",
   "execution_count": 22,
   "metadata": {},
   "outputs": [
    {
     "data": {
      "text/plain": [
       "0      False\n",
       "1      False\n",
       "2      False\n",
       "3      False\n",
       "4      False\n",
       "       ...  \n",
       "395    False\n",
       "396    False\n",
       "397    False\n",
       "398    False\n",
       "399    False\n",
       "Length: 367, dtype: bool"
      ]
     },
     "execution_count": 22,
     "metadata": {},
     "output_type": "execute_result"
    }
   ],
   "source": [
    "#we can check duplicates for each of the column but by defdault it checks the complete row\n",
    "this tells us which column is having duplicated values\n",
    "df.duplicated(['EstimatedSalary','Age'],inplace=True)"
   ]
  },
  {
   "cell_type": "markdown",
   "metadata": {},
   "source": [
    "*inplace=True gives us a updated dataset after removing the duplicated values\n",
    "*if inplace=False it gives separate dataset which contain duplicated values"
   ]
  },
  {
   "cell_type": "code",
   "execution_count": 26,
   "metadata": {},
   "outputs": [
    {
     "data": {
      "text/plain": [
       "0      False\n",
       "1      False\n",
       "2      False\n",
       "3      False\n",
       "4      False\n",
       "       ...  \n",
       "395    False\n",
       "396    False\n",
       "397    False\n",
       "398    False\n",
       "399    False\n",
       "Length: 367, dtype: bool"
      ]
     },
     "execution_count": 26,
     "metadata": {},
     "output_type": "execute_result"
    }
   ],
   "source": [
    "df.duplicated(['EstimatedSalary','Age'],keep='last')\n",
    "#it considers the  very last appearance of repaeated value as false and all others as true"
   ]
  },
  {
   "cell_type": "code",
   "execution_count": null,
   "metadata": {},
   "outputs": [],
   "source": []
  }
 ],
 "metadata": {
  "kernelspec": {
   "display_name": "Python 3",
   "language": "python",
   "name": "python3"
  },
  "language_info": {
   "codemirror_mode": {
    "name": "ipython",
    "version": 3
   },
   "file_extension": ".py",
   "mimetype": "text/x-python",
   "name": "python",
   "nbconvert_exporter": "python",
   "pygments_lexer": "ipython3",
   "version": "3.7.7"
  }
 },
 "nbformat": 4,
 "nbformat_minor": 4
}
